{
 "cells": [
  {
   "cell_type": "code",
   "execution_count": 1,
   "id": "c0a75626",
   "metadata": {},
   "outputs": [],
   "source": [
    "import numpy as np\n",
    "import pandas as pd\n",
    "from scipy import stats"
   ]
  },
  {
   "cell_type": "code",
   "execution_count": 2,
   "id": "1986a23f",
   "metadata": {},
   "outputs": [
    {
     "data": {
      "text/html": [
       "<div>\n",
       "<style scoped>\n",
       "    .dataframe tbody tr th:only-of-type {\n",
       "        vertical-align: middle;\n",
       "    }\n",
       "\n",
       "    .dataframe tbody tr th {\n",
       "        vertical-align: top;\n",
       "    }\n",
       "\n",
       "    .dataframe thead th {\n",
       "        text-align: right;\n",
       "    }\n",
       "</style>\n",
       "<table border=\"1\" class=\"dataframe\">\n",
       "  <thead>\n",
       "    <tr style=\"text-align: right;\">\n",
       "      <th></th>\n",
       "      <th>Player</th>\n",
       "      <th>Span</th>\n",
       "      <th>MatDescending</th>\n",
       "      <th>Runs</th>\n",
       "      <th>HS</th>\n",
       "      <th>Bat Av</th>\n",
       "      <th>100</th>\n",
       "      <th>Wkts</th>\n",
       "      <th>BBI</th>\n",
       "      <th>Bowl Av</th>\n",
       "      <th>5</th>\n",
       "      <th>Ct</th>\n",
       "      <th>St</th>\n",
       "      <th>Ave Diff</th>\n",
       "      <th>Education</th>\n",
       "      <th>City</th>\n",
       "    </tr>\n",
       "  </thead>\n",
       "  <tbody>\n",
       "    <tr>\n",
       "      <th>0</th>\n",
       "      <td>DPMD Jayawardene</td>\n",
       "      <td>19972015</td>\n",
       "      <td>647</td>\n",
       "      <td>25688</td>\n",
       "      <td>374</td>\n",
       "      <td>38.98</td>\n",
       "      <td>53.0</td>\n",
       "      <td>14.0</td>\n",
       "      <td>Feb-32</td>\n",
       "      <td>61.57</td>\n",
       "      <td>0.0</td>\n",
       "      <td>434</td>\n",
       "      <td>0</td>\n",
       "      <td>22.59</td>\n",
       "      <td>Nalanda College</td>\n",
       "      <td>Colombo</td>\n",
       "    </tr>\n",
       "    <tr>\n",
       "      <th>1</th>\n",
       "      <td>KC Sangakkara</td>\n",
       "      <td>20002015</td>\n",
       "      <td>587</td>\n",
       "      <td>27757</td>\n",
       "      <td>319</td>\n",
       "      <td>46.80</td>\n",
       "      <td>63.0</td>\n",
       "      <td>0.0</td>\n",
       "      <td>NaN</td>\n",
       "      <td>NaN</td>\n",
       "      <td>0.0</td>\n",
       "      <td>603</td>\n",
       "      <td>136</td>\n",
       "      <td>NaN</td>\n",
       "      <td>Trinity College, Kandy</td>\n",
       "      <td>Kandy</td>\n",
       "    </tr>\n",
       "    <tr>\n",
       "      <th>2</th>\n",
       "      <td>ST Jayasuriya</td>\n",
       "      <td>19892011</td>\n",
       "      <td>582</td>\n",
       "      <td>20966</td>\n",
       "      <td>340</td>\n",
       "      <td>34.25</td>\n",
       "      <td>42.0</td>\n",
       "      <td>437.0</td>\n",
       "      <td>Jun-29</td>\n",
       "      <td>35.60</td>\n",
       "      <td>6.0</td>\n",
       "      <td>205</td>\n",
       "      <td>0</td>\n",
       "      <td>1.34</td>\n",
       "      <td>St.Servatius College</td>\n",
       "      <td>Matara</td>\n",
       "    </tr>\n",
       "    <tr>\n",
       "      <th>3</th>\n",
       "      <td>TM Dilshan</td>\n",
       "      <td>19992016</td>\n",
       "      <td>497</td>\n",
       "      <td>17671</td>\n",
       "      <td>193</td>\n",
       "      <td>38.16</td>\n",
       "      <td>39.0</td>\n",
       "      <td>154.0</td>\n",
       "      <td>04-Apr</td>\n",
       "      <td>44.16</td>\n",
       "      <td>0.0</td>\n",
       "      <td>242</td>\n",
       "      <td>3</td>\n",
       "      <td>6.00</td>\n",
       "      <td>Kalutara Vidyalaya</td>\n",
       "      <td>Kaluthara</td>\n",
       "    </tr>\n",
       "    <tr>\n",
       "      <th>4</th>\n",
       "      <td>M Muralidaran</td>\n",
       "      <td>19922011</td>\n",
       "      <td>487</td>\n",
       "      <td>1934</td>\n",
       "      <td>67</td>\n",
       "      <td>9.38</td>\n",
       "      <td>0.0</td>\n",
       "      <td>1331.0</td>\n",
       "      <td>Sep-51</td>\n",
       "      <td>22.82</td>\n",
       "      <td>77.0</td>\n",
       "      <td>199</td>\n",
       "      <td>0</td>\n",
       "      <td>13.44</td>\n",
       "      <td>St. Anthony's College</td>\n",
       "      <td>Kandy</td>\n",
       "    </tr>\n",
       "  </tbody>\n",
       "</table>\n",
       "</div>"
      ],
      "text/plain": [
       "             Player      Span  MatDescending   Runs   HS  Bat Av   100  \\\n",
       "0  DPMD Jayawardene  19972015            647  25688  374   38.98  53.0   \n",
       "1     KC Sangakkara  20002015            587  27757  319   46.80  63.0   \n",
       "2     ST Jayasuriya  19892011            582  20966  340   34.25  42.0   \n",
       "3        TM Dilshan  19992016            497  17671  193   38.16  39.0   \n",
       "4     M Muralidaran  19922011            487   1934   67    9.38   0.0   \n",
       "\n",
       "     Wkts     BBI  Bowl Av     5   Ct   St  Ave Diff               Education  \\\n",
       "0    14.0  Feb-32    61.57   0.0  434    0     22.59         Nalanda College   \n",
       "1     0.0     NaN      NaN   0.0  603  136       NaN  Trinity College, Kandy   \n",
       "2   437.0  Jun-29    35.60   6.0  205    0      1.34    St.Servatius College   \n",
       "3   154.0  04-Apr    44.16   0.0  242    3      6.00      Kalutara Vidyalaya   \n",
       "4  1331.0  Sep-51    22.82  77.0  199    0     13.44   St. Anthony's College   \n",
       "\n",
       "        City  \n",
       "0    Colombo  \n",
       "1      Kandy  \n",
       "2     Matara  \n",
       "3  Kaluthara  \n",
       "4     Kandy   "
      ]
     },
     "execution_count": 2,
     "metadata": {},
     "output_type": "execute_result"
    }
   ],
   "source": [
    "df_All=pd.read_csv('Players_All_Years.csv')\n",
    "df_All.head()"
   ]
  },
  {
   "cell_type": "code",
   "execution_count": 3,
   "id": "67fcc6c1",
   "metadata": {
    "scrolled": true
   },
   "outputs": [
    {
     "data": {
      "text/plain": [
       "count    227.00000\n",
       "mean      16.90837\n",
       "std       11.61088\n",
       "min        0.00000\n",
       "25%        8.00000\n",
       "50%       14.50000\n",
       "75%       23.38000\n",
       "max       68.00000\n",
       "Name: Bat Av, dtype: float64"
      ]
     },
     "execution_count": 3,
     "metadata": {},
     "output_type": "execute_result"
    }
   ],
   "source": [
    "df_All[\"Bat Av\"].describe()"
   ]
  },
  {
   "cell_type": "code",
   "execution_count": 4,
   "id": "a8f68fdb",
   "metadata": {},
   "outputs": [
    {
     "data": {
      "text/html": [
       "<div>\n",
       "<style scoped>\n",
       "    .dataframe tbody tr th:only-of-type {\n",
       "        vertical-align: middle;\n",
       "    }\n",
       "\n",
       "    .dataframe tbody tr th {\n",
       "        vertical-align: top;\n",
       "    }\n",
       "\n",
       "    .dataframe thead th {\n",
       "        text-align: right;\n",
       "    }\n",
       "</style>\n",
       "<table border=\"1\" class=\"dataframe\">\n",
       "  <thead>\n",
       "    <tr style=\"text-align: right;\">\n",
       "      <th></th>\n",
       "      <th>Player</th>\n",
       "      <th>Span</th>\n",
       "      <th>Mat</th>\n",
       "      <th>Runs</th>\n",
       "      <th>HS</th>\n",
       "      <th>Bat Av</th>\n",
       "      <th>100</th>\n",
       "      <th>Wkts</th>\n",
       "      <th>BBI</th>\n",
       "      <th>Bowl Av</th>\n",
       "      <th>5</th>\n",
       "      <th>Ct</th>\n",
       "      <th>St</th>\n",
       "      <th>Ave Diff</th>\n",
       "    </tr>\n",
       "  </thead>\n",
       "  <tbody>\n",
       "    <tr>\n",
       "      <th>0</th>\n",
       "      <td>BKG Mendis</td>\n",
       "      <td>20152023</td>\n",
       "      <td>236</td>\n",
       "      <td>8767</td>\n",
       "      <td>245</td>\n",
       "      <td>32.35</td>\n",
       "      <td>12.0</td>\n",
       "      <td>NaN</td>\n",
       "      <td>01-Oct</td>\n",
       "      <td>146.00</td>\n",
       "      <td>0.0</td>\n",
       "      <td>185</td>\n",
       "      <td>8</td>\n",
       "      <td>113.64</td>\n",
       "    </tr>\n",
       "    <tr>\n",
       "      <th>1</th>\n",
       "      <td>AD Mathews</td>\n",
       "      <td>20132023</td>\n",
       "      <td>229</td>\n",
       "      <td>10043</td>\n",
       "      <td>200*</td>\n",
       "      <td>43.85</td>\n",
       "      <td>17.0</td>\n",
       "      <td>95.0</td>\n",
       "      <td>Apr-44</td>\n",
       "      <td>35.13</td>\n",
       "      <td>0.0</td>\n",
       "      <td>94</td>\n",
       "      <td>0</td>\n",
       "      <td>8.71</td>\n",
       "    </tr>\n",
       "    <tr>\n",
       "      <th>2</th>\n",
       "      <td>LD Chandimal</td>\n",
       "      <td>20132023</td>\n",
       "      <td>209</td>\n",
       "      <td>7883</td>\n",
       "      <td>206*</td>\n",
       "      <td>35.66</td>\n",
       "      <td>14.0</td>\n",
       "      <td>NaN</td>\n",
       "      <td>NaN</td>\n",
       "      <td>NaN</td>\n",
       "      <td>NaN</td>\n",
       "      <td>146</td>\n",
       "      <td>19</td>\n",
       "      <td>NaN</td>\n",
       "    </tr>\n",
       "    <tr>\n",
       "      <th>3</th>\n",
       "      <td>MDKJ Perera</td>\n",
       "      <td>20132023</td>\n",
       "      <td>181</td>\n",
       "      <td>5738</td>\n",
       "      <td>153*</td>\n",
       "      <td>30.35</td>\n",
       "      <td>8.0</td>\n",
       "      <td>NaN</td>\n",
       "      <td>NaN</td>\n",
       "      <td>NaN</td>\n",
       "      <td>NaN</td>\n",
       "      <td>74</td>\n",
       "      <td>17</td>\n",
       "      <td>NaN</td>\n",
       "    </tr>\n",
       "    <tr>\n",
       "      <th>4</th>\n",
       "      <td>DM de Silva</td>\n",
       "      <td>20152023</td>\n",
       "      <td>180</td>\n",
       "      <td>5897</td>\n",
       "      <td>173</td>\n",
       "      <td>31.03</td>\n",
       "      <td>10.0</td>\n",
       "      <td>91.0</td>\n",
       "      <td>Mar-25</td>\n",
       "      <td>45.80</td>\n",
       "      <td>0.0</td>\n",
       "      <td>122</td>\n",
       "      <td>0</td>\n",
       "      <td>14.76</td>\n",
       "    </tr>\n",
       "  </tbody>\n",
       "</table>\n",
       "</div>"
      ],
      "text/plain": [
       "         Player      Span  Mat   Runs    HS  Bat Av   100  Wkts     BBI  \\\n",
       "0    BKG Mendis  20152023  236   8767   245   32.35  12.0   NaN  01-Oct   \n",
       "1    AD Mathews  20132023  229  10043  200*   43.85  17.0  95.0  Apr-44   \n",
       "2  LD Chandimal  20132023  209   7883  206*   35.66  14.0   NaN     NaN   \n",
       "3   MDKJ Perera  20132023  181   5738  153*   30.35   8.0   NaN     NaN   \n",
       "4   DM de Silva  20152023  180   5897   173   31.03  10.0  91.0  Mar-25   \n",
       "\n",
       "   Bowl Av    5   Ct  St  Ave Diff  \n",
       "0   146.00  0.0  185   8    113.64  \n",
       "1    35.13  0.0   94   0      8.71  \n",
       "2      NaN  NaN  146  19       NaN  \n",
       "3      NaN  NaN   74  17       NaN  \n",
       "4    45.80  0.0  122   0     14.76  "
      ]
     },
     "execution_count": 4,
     "metadata": {},
     "output_type": "execute_result"
    }
   ],
   "source": [
    "df_Last10=pd.read_csv('Players_Last10Years.csv')\n",
    "df_Last10.head()"
   ]
  },
  {
   "cell_type": "code",
   "execution_count": 5,
   "id": "ecde839d",
   "metadata": {},
   "outputs": [
    {
     "data": {
      "text/plain": [
       "count    103.000000\n",
       "mean      17.538252\n",
       "std       11.726907\n",
       "min        0.000000\n",
       "25%        7.905000\n",
       "50%       16.500000\n",
       "75%       23.785000\n",
       "max       54.570000\n",
       "Name: Bat Av, dtype: float64"
      ]
     },
     "execution_count": 5,
     "metadata": {},
     "output_type": "execute_result"
    }
   ],
   "source": [
    "df_Last10[\"Bat Av\"].describe()"
   ]
  },
  {
   "cell_type": "code",
   "execution_count": 6,
   "id": "370f20b6",
   "metadata": {},
   "outputs": [],
   "source": [
    "# Order by Decending and get top 50 elements\n",
    "Runs_All = df_All['Bat Av'].nlargest(n=100)\n",
    "Runs_Last10=df_Last10['Bat Av'].nlargest(n=100)"
   ]
  },
  {
   "cell_type": "code",
   "execution_count": 7,
   "id": "b01998e5",
   "metadata": {},
   "outputs": [
    {
     "name": "stdout",
     "output_type": "stream",
     "text": [
      "201    68.00\n",
      "171    49.00\n",
      "167    48.12\n",
      "1      46.80\n",
      "36     44.22\n",
      "       ...  \n",
      "71     17.60\n",
      "68     17.54\n",
      "136    17.50\n",
      "95     17.44\n",
      "119    16.85\n",
      "Name: Bat Av, Length: 100, dtype: float64\n"
     ]
    }
   ],
   "source": [
    "print(Runs_All)"
   ]
  },
  {
   "cell_type": "code",
   "execution_count": 8,
   "id": "6000a77c",
   "metadata": {},
   "outputs": [
    {
     "name": "stdout",
     "output_type": "stream",
     "text": [
      "21    54.57\n",
      "77    48.12\n",
      "1     43.85\n",
      "9     40.03\n",
      "82    39.50\n",
      "      ...  \n",
      "62     2.50\n",
      "85     2.00\n",
      "59     1.66\n",
      "83     1.50\n",
      "97     1.00\n",
      "Name: Bat Av, Length: 100, dtype: float64\n"
     ]
    }
   ],
   "source": [
    "print(Runs_Last10)"
   ]
  },
  {
   "cell_type": "code",
   "execution_count": 9,
   "id": "e784feaf",
   "metadata": {},
   "outputs": [
    {
     "name": "stdout",
     "output_type": "stream",
     "text": [
      "T-statistic: 6.47843248246615\n",
      "P-value: 7.18226931796518e-10\n"
     ]
    }
   ],
   "source": [
    "# Perform the t-test\n",
    "t_statistic, p_value = stats.ttest_ind(Runs_All, Runs_Last10)\n",
    "\n",
    "# Print the results\n",
    "print(\"T-statistic:\", t_statistic)\n",
    "print(\"P-value:\", p_value)"
   ]
  }
 ],
 "metadata": {
  "kernelspec": {
   "display_name": "Python 3 (ipykernel)",
   "language": "python",
   "name": "python3"
  },
  "language_info": {
   "codemirror_mode": {
    "name": "ipython",
    "version": 3
   },
   "file_extension": ".py",
   "mimetype": "text/x-python",
   "name": "python",
   "nbconvert_exporter": "python",
   "pygments_lexer": "ipython3",
   "version": "3.11.7"
  }
 },
 "nbformat": 4,
 "nbformat_minor": 5
}
